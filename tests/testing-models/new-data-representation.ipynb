{
 "cells": [
  {
   "cell_type": "code",
   "id": "initial_id",
   "metadata": {
    "collapsed": true,
    "ExecuteTime": {
     "end_time": "2025-01-10T21:42:03.344556Z",
     "start_time": "2025-01-10T21:42:02.878889Z"
    }
   },
   "source": [
    "import pandas as pd\n",
    "import warnings\n",
    "warnings.filterwarnings(\"ignore\", category=Warning)"
   ],
   "outputs": [],
   "execution_count": 1
  },
  {
   "metadata": {
    "ExecuteTime": {
     "end_time": "2025-01-10T21:56:01.139798Z",
     "start_time": "2025-01-10T21:56:01.106236Z"
    }
   },
   "cell_type": "code",
   "source": [
    "df = pd.read_json(\"filter_results.json\")\n",
    "df.head(10)"
   ],
   "id": "e31edfe8ca17937b",
   "outputs": [
    {
     "data": {
      "text/plain": [
       "  dataset_name    filter_name  filter_accuracy  filter_difference\n",
       "0         BACE      No Filter         0.638158           0.000000\n",
       "1         BACE       Lipinski         0.689394           0.051236\n",
       "2         BACE      BeyondRo5         0.666667           0.028509\n",
       "3         BACE            BMS         0.633333          -0.004825\n",
       "4         BACE          Brenk         0.661290           0.023132\n",
       "5         BACE  faf4_druglike         0.837838           0.199680\n",
       "6         BACE  faf4_leadlike         0.826087           0.187929\n",
       "7         BACE          ghose         0.765957           0.127800\n",
       "8         BACE            hao         0.771429           0.133271\n",
       "9         BACE   inpharmatica         0.648276           0.010118"
      ],
      "text/html": [
       "<div>\n",
       "<style scoped>\n",
       "    .dataframe tbody tr th:only-of-type {\n",
       "        vertical-align: middle;\n",
       "    }\n",
       "\n",
       "    .dataframe tbody tr th {\n",
       "        vertical-align: top;\n",
       "    }\n",
       "\n",
       "    .dataframe thead th {\n",
       "        text-align: right;\n",
       "    }\n",
       "</style>\n",
       "<table border=\"1\" class=\"dataframe\">\n",
       "  <thead>\n",
       "    <tr style=\"text-align: right;\">\n",
       "      <th></th>\n",
       "      <th>dataset_name</th>\n",
       "      <th>filter_name</th>\n",
       "      <th>filter_accuracy</th>\n",
       "      <th>filter_difference</th>\n",
       "    </tr>\n",
       "  </thead>\n",
       "  <tbody>\n",
       "    <tr>\n",
       "      <th>0</th>\n",
       "      <td>BACE</td>\n",
       "      <td>No Filter</td>\n",
       "      <td>0.638158</td>\n",
       "      <td>0.000000</td>\n",
       "    </tr>\n",
       "    <tr>\n",
       "      <th>1</th>\n",
       "      <td>BACE</td>\n",
       "      <td>Lipinski</td>\n",
       "      <td>0.689394</td>\n",
       "      <td>0.051236</td>\n",
       "    </tr>\n",
       "    <tr>\n",
       "      <th>2</th>\n",
       "      <td>BACE</td>\n",
       "      <td>BeyondRo5</td>\n",
       "      <td>0.666667</td>\n",
       "      <td>0.028509</td>\n",
       "    </tr>\n",
       "    <tr>\n",
       "      <th>3</th>\n",
       "      <td>BACE</td>\n",
       "      <td>BMS</td>\n",
       "      <td>0.633333</td>\n",
       "      <td>-0.004825</td>\n",
       "    </tr>\n",
       "    <tr>\n",
       "      <th>4</th>\n",
       "      <td>BACE</td>\n",
       "      <td>Brenk</td>\n",
       "      <td>0.661290</td>\n",
       "      <td>0.023132</td>\n",
       "    </tr>\n",
       "    <tr>\n",
       "      <th>5</th>\n",
       "      <td>BACE</td>\n",
       "      <td>faf4_druglike</td>\n",
       "      <td>0.837838</td>\n",
       "      <td>0.199680</td>\n",
       "    </tr>\n",
       "    <tr>\n",
       "      <th>6</th>\n",
       "      <td>BACE</td>\n",
       "      <td>faf4_leadlike</td>\n",
       "      <td>0.826087</td>\n",
       "      <td>0.187929</td>\n",
       "    </tr>\n",
       "    <tr>\n",
       "      <th>7</th>\n",
       "      <td>BACE</td>\n",
       "      <td>ghose</td>\n",
       "      <td>0.765957</td>\n",
       "      <td>0.127800</td>\n",
       "    </tr>\n",
       "    <tr>\n",
       "      <th>8</th>\n",
       "      <td>BACE</td>\n",
       "      <td>hao</td>\n",
       "      <td>0.771429</td>\n",
       "      <td>0.133271</td>\n",
       "    </tr>\n",
       "    <tr>\n",
       "      <th>9</th>\n",
       "      <td>BACE</td>\n",
       "      <td>inpharmatica</td>\n",
       "      <td>0.648276</td>\n",
       "      <td>0.010118</td>\n",
       "    </tr>\n",
       "  </tbody>\n",
       "</table>\n",
       "</div>"
      ]
     },
     "execution_count": 34,
     "metadata": {},
     "output_type": "execute_result"
    }
   ],
   "execution_count": 34
  },
  {
   "metadata": {
    "ExecuteTime": {
     "end_time": "2025-01-10T21:48:12.448491Z",
     "start_time": "2025-01-10T21:48:12.444072Z"
    }
   },
   "cell_type": "code",
   "source": [
    "round_num = 2\n",
    "df['filter_accuracy'] = df['filter_accuracy'].apply(lambda x: round(x, round_num))\n",
    "df['filter_difference'] = df['filter_difference'].apply(lambda x: round(x, round_num))"
   ],
   "id": "61edb6ac5a098a2",
   "outputs": [],
   "execution_count": 18
  },
  {
   "metadata": {
    "ExecuteTime": {
     "end_time": "2025-01-10T21:53:54.534994Z",
     "start_time": "2025-01-10T21:53:54.527794Z"
    }
   },
   "cell_type": "code",
   "source": [
    "top_3_per_group = {\n",
    "    name: group.nlargest(3, 'filter_difference')\n",
    "    for name, group in df.groupby('dataset_name')\n",
    "}\n"
   ],
   "id": "6c8614f8f2d58136",
   "outputs": [],
   "execution_count": 28
  },
  {
   "metadata": {
    "ExecuteTime": {
     "end_time": "2025-01-10T21:53:59.244695Z",
     "start_time": "2025-01-10T21:53:59.236424Z"
    }
   },
   "cell_type": "code",
   "source": "top_3_per_group",
   "id": "68a4507ceda47675",
   "outputs": [
    {
     "data": {
      "text/plain": [
       "{'BACE':    dataset_name    filter_name  filter_accuracy  filter_difference\n",
       " 18         BACE      rule_of_3             0.90               0.26\n",
       " 5          BACE  faf4_druglike             0.84               0.20\n",
       " 6          BACE  faf4_leadlike             0.83               0.19,\n",
       " 'BBBP':    dataset_name        filter_name  filter_accuracy  filter_difference\n",
       " 45         BBBP          rule_of_3             0.75               0.19\n",
       " 35         BBBP                hao             0.65               0.09\n",
       " 50         BBBP  tice_insecticides             0.65               0.09,\n",
       " 'ClinTox':    dataset_name filter_name  filter_accuracy  filter_difference\n",
       " 99      ClinTox   rule_of_3             1.00               0.06\n",
       " 89      ClinTox         hao             0.96               0.02\n",
       " 91      ClinTox        lint             0.96               0.02,\n",
       " 'HIV':    dataset_name       filter_name  filter_accuracy  filter_difference\n",
       " 72          HIV         rule_of_3             0.99               0.02\n",
       " 76          HIV  tice_herebicides             0.99               0.02\n",
       " 55          HIV          Lipinski             0.98               0.01}"
      ]
     },
     "execution_count": 29,
     "metadata": {},
     "output_type": "execute_result"
    }
   ],
   "execution_count": 29
  },
  {
   "metadata": {},
   "cell_type": "markdown",
   "source": "",
   "id": "abda85be36fc776"
  },
  {
   "metadata": {
    "ExecuteTime": {
     "end_time": "2025-01-10T21:54:22.217852Z",
     "start_time": "2025-01-10T21:54:22.177105Z"
    }
   },
   "cell_type": "code",
   "source": [
    "for name, group in top_3_per_group.items():\n",
    "    print(f\"Dataset '{name}':\")\n",
    "    print(group)\n",
    "    print(\"-\" * 80)"
   ],
   "id": "9cd5cb7f226fb315",
   "outputs": [
    {
     "name": "stdout",
     "output_type": "stream",
     "text": [
      "Dataset 'BACE':\n",
      "   dataset_name    filter_name  filter_accuracy  filter_difference\n",
      "18         BACE      rule_of_3             0.90               0.26\n",
      "5          BACE  faf4_druglike             0.84               0.20\n",
      "6          BACE  faf4_leadlike             0.83               0.19\n",
      "--------------------------------------------------------------------------------\n",
      "Dataset 'BBBP':\n",
      "   dataset_name        filter_name  filter_accuracy  filter_difference\n",
      "45         BBBP          rule_of_3             0.75               0.19\n",
      "35         BBBP                hao             0.65               0.09\n",
      "50         BBBP  tice_insecticides             0.65               0.09\n",
      "--------------------------------------------------------------------------------\n",
      "Dataset 'ClinTox':\n",
      "   dataset_name filter_name  filter_accuracy  filter_difference\n",
      "99      ClinTox   rule_of_3             1.00               0.06\n",
      "89      ClinTox         hao             0.96               0.02\n",
      "91      ClinTox        lint             0.96               0.02\n",
      "--------------------------------------------------------------------------------\n",
      "Dataset 'HIV':\n",
      "   dataset_name       filter_name  filter_accuracy  filter_difference\n",
      "72          HIV         rule_of_3             0.99               0.02\n",
      "76          HIV  tice_herebicides             0.99               0.02\n",
      "55          HIV          Lipinski             0.98               0.01\n",
      "--------------------------------------------------------------------------------\n"
     ]
    }
   ],
   "execution_count": 30
  },
  {
   "metadata": {
    "ExecuteTime": {
     "end_time": "2025-01-10T21:55:26.700291Z",
     "start_time": "2025-01-10T21:55:26.670363Z"
    }
   },
   "cell_type": "code",
   "source": "df_2 = pd.read_json(\"filter_results2.json\")",
   "id": "8a868a642dabbba8",
   "outputs": [],
   "execution_count": 31
  },
  {
   "metadata": {
    "ExecuteTime": {
     "end_time": "2025-01-10T21:55:50.694869Z",
     "start_time": "2025-01-10T21:55:50.673832Z"
    }
   },
   "cell_type": "code",
   "source": "df_2.head(10)",
   "id": "f8ba23beb3b3f188",
   "outputs": [
    {
     "data": {
      "text/plain": [
       "  dataset_name                         filter_name  filter_accuracy  \\\n",
       "0         BACE                           No Filter         0.638158   \n",
       "1         BACE          [rule_of_3, faf4_druglike]         1.000000   \n",
       "2         BACE          [rule_of_3, faf4_leadlike]         1.000000   \n",
       "3         BACE      [rule_of_3, tice_insecticides]         0.800000   \n",
       "4         BACE                    [rule_of_3, hao]         0.888889   \n",
       "5         BACE       [rule_of_3, tice_herebicides]         1.000000   \n",
       "6         BACE                   [rule_of_3, lint]         0.750000   \n",
       "7         BACE      [faf4_druglike, faf4_leadlike]         0.826087   \n",
       "8         BACE  [faf4_druglike, tice_insecticides]         0.814815   \n",
       "9         BACE                [faf4_druglike, hao]         0.772727   \n",
       "\n",
       "   filter_difference  \n",
       "0           0.000000  \n",
       "1           0.361842  \n",
       "2           0.361842  \n",
       "3           0.161842  \n",
       "4           0.250731  \n",
       "5           0.361842  \n",
       "6           0.111842  \n",
       "7           0.187929  \n",
       "8           0.176657  \n",
       "9           0.134569  "
      ],
      "text/html": [
       "<div>\n",
       "<style scoped>\n",
       "    .dataframe tbody tr th:only-of-type {\n",
       "        vertical-align: middle;\n",
       "    }\n",
       "\n",
       "    .dataframe tbody tr th {\n",
       "        vertical-align: top;\n",
       "    }\n",
       "\n",
       "    .dataframe thead th {\n",
       "        text-align: right;\n",
       "    }\n",
       "</style>\n",
       "<table border=\"1\" class=\"dataframe\">\n",
       "  <thead>\n",
       "    <tr style=\"text-align: right;\">\n",
       "      <th></th>\n",
       "      <th>dataset_name</th>\n",
       "      <th>filter_name</th>\n",
       "      <th>filter_accuracy</th>\n",
       "      <th>filter_difference</th>\n",
       "    </tr>\n",
       "  </thead>\n",
       "  <tbody>\n",
       "    <tr>\n",
       "      <th>0</th>\n",
       "      <td>BACE</td>\n",
       "      <td>No Filter</td>\n",
       "      <td>0.638158</td>\n",
       "      <td>0.000000</td>\n",
       "    </tr>\n",
       "    <tr>\n",
       "      <th>1</th>\n",
       "      <td>BACE</td>\n",
       "      <td>[rule_of_3, faf4_druglike]</td>\n",
       "      <td>1.000000</td>\n",
       "      <td>0.361842</td>\n",
       "    </tr>\n",
       "    <tr>\n",
       "      <th>2</th>\n",
       "      <td>BACE</td>\n",
       "      <td>[rule_of_3, faf4_leadlike]</td>\n",
       "      <td>1.000000</td>\n",
       "      <td>0.361842</td>\n",
       "    </tr>\n",
       "    <tr>\n",
       "      <th>3</th>\n",
       "      <td>BACE</td>\n",
       "      <td>[rule_of_3, tice_insecticides]</td>\n",
       "      <td>0.800000</td>\n",
       "      <td>0.161842</td>\n",
       "    </tr>\n",
       "    <tr>\n",
       "      <th>4</th>\n",
       "      <td>BACE</td>\n",
       "      <td>[rule_of_3, hao]</td>\n",
       "      <td>0.888889</td>\n",
       "      <td>0.250731</td>\n",
       "    </tr>\n",
       "    <tr>\n",
       "      <th>5</th>\n",
       "      <td>BACE</td>\n",
       "      <td>[rule_of_3, tice_herebicides]</td>\n",
       "      <td>1.000000</td>\n",
       "      <td>0.361842</td>\n",
       "    </tr>\n",
       "    <tr>\n",
       "      <th>6</th>\n",
       "      <td>BACE</td>\n",
       "      <td>[rule_of_3, lint]</td>\n",
       "      <td>0.750000</td>\n",
       "      <td>0.111842</td>\n",
       "    </tr>\n",
       "    <tr>\n",
       "      <th>7</th>\n",
       "      <td>BACE</td>\n",
       "      <td>[faf4_druglike, faf4_leadlike]</td>\n",
       "      <td>0.826087</td>\n",
       "      <td>0.187929</td>\n",
       "    </tr>\n",
       "    <tr>\n",
       "      <th>8</th>\n",
       "      <td>BACE</td>\n",
       "      <td>[faf4_druglike, tice_insecticides]</td>\n",
       "      <td>0.814815</td>\n",
       "      <td>0.176657</td>\n",
       "    </tr>\n",
       "    <tr>\n",
       "      <th>9</th>\n",
       "      <td>BACE</td>\n",
       "      <td>[faf4_druglike, hao]</td>\n",
       "      <td>0.772727</td>\n",
       "      <td>0.134569</td>\n",
       "    </tr>\n",
       "  </tbody>\n",
       "</table>\n",
       "</div>"
      ]
     },
     "execution_count": 33,
     "metadata": {},
     "output_type": "execute_result"
    }
   ],
   "execution_count": 33
  },
  {
   "metadata": {},
   "cell_type": "code",
   "outputs": [],
   "execution_count": null,
   "source": "",
   "id": "5709d21429a3107c"
  }
 ],
 "metadata": {
  "kernelspec": {
   "display_name": "Python 3",
   "language": "python",
   "name": "python3"
  },
  "language_info": {
   "codemirror_mode": {
    "name": "ipython",
    "version": 2
   },
   "file_extension": ".py",
   "mimetype": "text/x-python",
   "name": "python",
   "nbconvert_exporter": "python",
   "pygments_lexer": "ipython2",
   "version": "2.7.6"
  }
 },
 "nbformat": 4,
 "nbformat_minor": 5
}
